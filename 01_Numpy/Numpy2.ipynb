{
 "cells": [
  {
   "cell_type": "markdown",
   "metadata": {},
   "source": [
    "### 1. 랜덤함수와  seed값 설정하기\n",
    "\n",
    "여러값을 저장할땐 시드값으로 설정할 수 있다."
   ]
  },
  {
   "cell_type": "markdown",
   "metadata": {},
   "source": [
    "#####  seed값 설정하기\n",
    "    여러명이서 작업할때 랜덤한 값이 나오되, 동일한 랜덤한 값이 나오도록 지정하는 방법\n",
    "    보통은 한 번만 지정하면 계속해서 사용할수 있다.\n",
    "\n",
    "    시드값을 설정하지 않을떄는 랜덤한 난수값이 컴퓨터 시간을 기준으로 그때마다 다른 값을 도출하도록 알고리즘이 구현되어있다.\n",
    "    시드값은 seed()함수안에 숫자를 넣음으로써 수동으로 값을 만들어내는 알고리즘\n",
    "    seed(0)\n",
    "    seed(10)\n",
    "    seed(120)\n",
    "    seed()는 씨앗과 같이 같은 값을 뿌리면 같은 결과가 나온다."
   ]
  },
  {
   "cell_type": "code",
   "execution_count": 1,
   "metadata": {},
   "outputs": [],
   "source": [
    "import numpy as np\n",
    "np.random.seed(0) # seed값은 0혹은 양의 정수만 가능하다. "
   ]
  },
  {
   "cell_type": "code",
   "execution_count": 2,
   "metadata": {},
   "outputs": [
    {
     "data": {
      "text/plain": [
       "array([[ 1.76405235,  0.40015721,  0.97873798,  2.2408932 ],\n",
       "       [ 1.86755799, -0.97727788,  0.95008842, -0.15135721],\n",
       "       [-0.10321885,  0.4105985 ,  0.14404357,  1.45427351],\n",
       "       [ 0.76103773,  0.12167502,  0.44386323,  0.33367433]])"
      ]
     },
     "execution_count": 2,
     "metadata": {},
     "output_type": "execute_result"
    }
   ],
   "source": [
    "import numpy as np\n",
    "arr1 = np.random.randn(4,4)\n",
    "arr1"
   ]
  },
  {
   "cell_type": "code",
   "execution_count": 3,
   "metadata": {},
   "outputs": [
    {
     "data": {
      "text/plain": [
       "array([1, 2, 3, 4, 5, 6, 7, 8, 9])"
      ]
     },
     "execution_count": 3,
     "metadata": {},
     "output_type": "execute_result"
    }
   ],
   "source": [
    "arr2 = np.arange(1,10)\n",
    "arr2"
   ]
  },
  {
   "cell_type": "code",
   "execution_count": 4,
   "metadata": {},
   "outputs": [
    {
     "data": {
      "text/plain": [
       "array([[1, 2, 3],\n",
       "       [4, 5, 6],\n",
       "       [7, 8, 9]])"
      ]
     },
     "execution_count": 4,
     "metadata": {},
     "output_type": "execute_result"
    }
   ],
   "source": [
    "#모양이 같아야만 reshape을 사용해서 정의 할 수 있다.\n",
    "# reshape은 매우 중요하다.\n",
    "arr3 = arr2.reshape(3, 3)\n",
    "arr3"
   ]
  },
  {
   "cell_type": "code",
   "execution_count": 5,
   "metadata": {},
   "outputs": [
    {
     "data": {
      "text/plain": [
       "array([[12, 13, 18, 11],\n",
       "       [13, 13, 13, 17],\n",
       "       [10, 11, 19, 19],\n",
       "       [10, 14, 17, 13]])"
      ]
     },
     "execution_count": 5,
     "metadata": {},
     "output_type": "execute_result"
    }
   ],
   "source": [
    "arr4 = np.random.randint(10,20,16).reshape(4, 4) #16개\n",
    "arr4\n",
    "#print(arr4)\n",
    "\n",
    "#arr4_1 = np.random.randint(10, size=9)\n",
    "#print(arr4_1)"
   ]
  },
  {
   "cell_type": "markdown",
   "metadata": {},
   "source": [
    "### 2. 인덱싱, 슬라이싱"
   ]
  },
  {
   "cell_type": "code",
   "execution_count": 6,
   "metadata": {},
   "outputs": [
    {
     "data": {
      "text/plain": [
       "array([0, 1, 2, 3, 4])"
      ]
     },
     "execution_count": 6,
     "metadata": {},
     "output_type": "execute_result"
    }
   ],
   "source": [
    "narray = np.arange(5)\n",
    "narray"
   ]
  },
  {
   "cell_type": "code",
   "execution_count": 7,
   "metadata": {},
   "outputs": [
    {
     "name": "stdout",
     "output_type": "stream",
     "text": [
      "[0 1]\n",
      "[1 2 3 4]\n",
      "[0 1 2 3]\n",
      "[0 1 2 3 4]\n",
      "[2 3]\n",
      "\n"
     ]
    }
   ],
   "source": [
    "# 1. 인덱싱과 슬라이싱으로 값 추출하기\n",
    "print(narray[:-3]) # 인덱스에 음수가 붙으면 뒤에서 n번째로 이해해야 한다.\n",
    "print(narray[1:]) # 이음을 말한다 n번부터 ~ 라고 이해함.\n",
    "print(narray[:4]) # ~ n-1까지\n",
    "print(narray[:]) \n",
    "print(narray[2:4]) \n",
    "print()"
   ]
  },
  {
   "cell_type": "code",
   "execution_count": 8,
   "metadata": {},
   "outputs": [
    {
     "data": {
      "text/plain": [
       "array([[12, 13, 18, 11],\n",
       "       [13, 13, 13, 17],\n",
       "       [10, 11, 19, 19],\n",
       "       [10, 14, 17, 13]])"
      ]
     },
     "execution_count": 8,
     "metadata": {},
     "output_type": "execute_result"
    }
   ],
   "source": [
    "arr4 # 2차원 4by 4"
   ]
  },
  {
   "cell_type": "code",
   "execution_count": 9,
   "metadata": {},
   "outputs": [
    {
     "name": "stdout",
     "output_type": "stream",
     "text": [
      "18\n",
      "18\n",
      "[13 13 13 17]\n",
      "[[11]\n",
      " [17]\n",
      " [19]\n",
      " [13]]\n",
      "[[13 18]\n",
      " [13 13]\n",
      " [11 19]\n",
      " [14 17]]\n"
     ]
    }
   ],
   "source": [
    "print(arr4[0][2])\n",
    "print(arr4[0,2])\n",
    "print(arr4[1])\n",
    "print(arr4[:,3:4])\n",
    "print(arr4[:,1:3])\n"
   ]
  },
  {
   "cell_type": "markdown",
   "metadata": {},
   "source": [
    "### 3. 인덱싱과 조건 슬라이싱\n",
    "    열거된 배열의 값에서 논리연산잔 혹은 where함수를 사용해서 \n",
    "    내가 원하는 값을 가져올 수 있어야 한다."
   ]
  },
  {
   "cell_type": "code",
   "execution_count": 10,
   "metadata": {},
   "outputs": [
    {
     "data": {
      "text/plain": [
       "array([[ 0.59124281, -1.        , -1.        , -1.        ],\n",
       "       [-1.        , -1.        , -1.        , -1.        ],\n",
       "       [-1.        ,  0.90734594,  0.81526991,  0.22909795],\n",
       "       [-1.        ,  0.47752547,  1.29269823, -1.        ]])"
      ]
     },
     "execution_count": 10,
     "metadata": {},
     "output_type": "execute_result"
    }
   ],
   "source": [
    "arr2 = np.random.randn(4,4)\n",
    "\n",
    "#1. 논리 연산자 사용\n",
    "arr2[arr2<0]\n",
    "\n",
    "#2. 0보자 작은값들(음수)는 전부다 0으로 바꿔보자\n",
    "arr2[arr2<0] = 0 \n",
    "arr2 # 원본이 바뀐다.\n",
    "\n",
    "#3. where 함수를 사용\n",
    "arr2_w = np.where(arr2>0, arr2, -1) # 3항 연산자 arr2>0이 트루면 arr2을 반환하고 펄스면 -1을 리턴한다.\n",
    "arr2_w\n"
   ]
  },
  {
   "cell_type": "code",
   "execution_count": 11,
   "metadata": {},
   "outputs": [
    {
     "name": "stdout",
     "output_type": "stream",
     "text": [
      "[3 4 5 6]\n",
      "[[0 0]\n",
      " [3 4]\n",
      " [5 6]]\n"
     ]
    }
   ],
   "source": [
    "# 중요!!\n",
    "exam_a = np.array([[1,2],[3,4],[5,6]])\n",
    "exam_a\n",
    "\n",
    "# 2보다 큰 값만 추출\n",
    "result = exam_a>2\n",
    "print(exam_a[result])\n",
    "\n",
    "# 2보다 큰 값만 추출 하고 2보다 작은 값은 0으로\n",
    "exam_a = np.where(exam_a > 2, exam_a, 0)\n",
    "print(exam_a)"
   ]
  },
  {
   "cell_type": "markdown",
   "metadata": {},
   "source": [
    "### 4. Numpy 통계함수\n",
    "##### sum(), min(), max(), mean(), argmin(), argmax(), comsum()"
   ]
  },
  {
   "cell_type": "code",
   "execution_count": 12,
   "metadata": {},
   "outputs": [
    {
     "name": "stdout",
     "output_type": "stream",
     "text": [
      "223\n",
      "[[12 13 18 11]\n",
      " [13 13 13 17]\n",
      " [10 11 19 19]\n",
      " [10 14 17 13]]\n",
      "sum 0 : [45 51 67 60]\n",
      "sum 1 : [54 56 59 54]\n",
      "argmax 0 : [1 3 2 2]\n",
      "argmax 1 : [2 3 2 2]\n",
      "argmin 0 : [2 2 1 0]\n",
      "argmin 1 : [3 0 0 0]\n"
     ]
    }
   ],
   "source": [
    "print(np.sum(arr4))\n",
    "print(arr4)\n",
    "print('sum 0 :',np.sum(arr4, 0)) # 아래쪽으로 행으로 기준 \n",
    "print('sum 1 :',np.sum(arr4, 1)) # 왼쪽으로  열로 기준\n",
    "print('argmax 0 :',np.argmax(arr4, 0))\n",
    "print('argmax 1 :',np.argmax(arr4, 1))\n",
    "print('argmin 0 :',np.argmin(arr4, 0))\n",
    "print('argmin 1 :',np.argmin(arr4, 1))"
   ]
  }
 ],
 "metadata": {
  "kernelspec": {
   "display_name": "Python 3",
   "language": "python",
   "name": "python3"
  },
  "language_info": {
   "codemirror_mode": {
    "name": "ipython",
    "version": 3
   },
   "file_extension": ".py",
   "mimetype": "text/x-python",
   "name": "python",
   "nbconvert_exporter": "python",
   "pygments_lexer": "ipython3",
   "version": "3.8.5"
  }
 },
 "nbformat": 4,
 "nbformat_minor": 4
}
