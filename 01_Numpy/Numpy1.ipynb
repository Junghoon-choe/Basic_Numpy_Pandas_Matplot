{
 "cells": [
  {
   "cell_type": "markdown",
   "metadata": {},
   "source": [
    "     Numpy는 Numeric Python의 줄인말이다.\n",
    "     수학분야 관련된 통계나 연산작업시 사용하는 라이브러리이다.\n",
    "     과학계산 컴퓨팅과 수학적인 데이터분석에 필요한 기본적인 패키지라고 할 수 있다.\n",
    "\n",
    "     파이썬의 리스트와 거의 흡사하다\n",
    "     리스트보다 빠르고 메모리 효율성이 높아서 성능적인 측면에서 훨씬 우위를 차지한다."
   ]
  },
  {
   "cell_type": "code",
   "execution_count": 1,
   "metadata": {},
   "outputs": [],
   "source": [
    "import numpy as np"
   ]
  },
  {
   "cell_type": "markdown",
   "metadata": {},
   "source": [
    "### 1. Numpy배열과 리스트를 비교\n",
    "#### numpy의 array함수 사용"
   ]
  },
  {
   "cell_type": "code",
   "execution_count": 2,
   "metadata": {},
   "outputs": [
    {
     "name": "stdout",
     "output_type": "stream",
     "text": [
      "[1, 2, 3, 4, 5]\n"
     ]
    }
   ],
   "source": [
    "myList = [1,2,3,4,5]\n",
    "print(myList)"
   ]
  },
  {
   "cell_type": "code",
   "execution_count": 3,
   "metadata": {},
   "outputs": [
    {
     "name": "stdout",
     "output_type": "stream",
     "text": [
      "[1 2 3 4 5]\n"
     ]
    }
   ],
   "source": [
    "myArr = np.array(myList)\n",
    "print(myArr)"
   ]
  },
  {
   "cell_type": "code",
   "execution_count": 4,
   "metadata": {},
   "outputs": [
    {
     "name": "stdout",
     "output_type": "stream",
     "text": [
      "<class 'list'>\n",
      "<class 'numpy.ndarray'>\n",
      "[2, 3]\n",
      "[2 3]\n",
      "[-5, 3]\n",
      "[-5  3]\n",
      "[1, 2, 3, 4, 5]\n",
      "[ 1 -5  3  4  5]\n"
     ]
    }
   ],
   "source": [
    "'''\n",
    "list - python\n",
    "ndarray - Numpy \n",
    "판다스는 2차원 배열로 만들어진다.\n",
    "\n",
    "numpy => 1차원 구조 (벡터)\n",
    "pandas => 2차원 구조 (메트릭스)\n",
    "'''\n",
    "print(type(myList))\n",
    "print(type(myArr)) #중요~! ndarray 넘파이 배열, ndarray클라스 타입으로 지원된다.\n",
    "\n",
    "'''\n",
    "인덱싱 : 몇번째 인지 가르키는데 사용한다.\n",
    "슬라이싱 : 몇번째 부터인지 또는 몇 번째까지 또는 몇번부터 몇번까지 출력하기 위해서 자르기 위해서 사용한다.\n",
    "'''\n",
    "myList_slice = myList[1:3] # 인덱스 슬라이딩이다. 인덱스 1번부터 2번까지 나온다.\n",
    "myArr_slice = myArr[1:3]\n",
    "\n",
    "print(myList_slice)\n",
    "print(myArr_slice)\n",
    "\n",
    "myList_slice[0] = -5\n",
    "myArr_slice[0] =-5\n",
    "\n",
    "# 리스트 슬라이싱\n",
    "print(myList_slice)\n",
    "print(myArr_slice)\n",
    "\n",
    "# 리스트와 ndarray의 차이점을 정리하자\n",
    "print(myList) # 안바뀜 카피해서 새로운걸 만든다.\n",
    "print(myArr) # 바뀜 원본을 바로 바꿔버린다 메모리 효율성이 뛰어나다"
   ]
  },
  {
   "cell_type": "markdown",
   "metadata": {},
   "source": [
    "#### numpy의 랜덤함수 사용 "
   ]
  },
  {
   "cell_type": "code",
   "execution_count": 5,
   "metadata": {},
   "outputs": [
    {
     "name": "stdout",
     "output_type": "stream",
     "text": [
      "[0.80845815 0.96848161 0.34761614 0.76754624 0.73842307 0.0418326\n",
      " 0.27069521 0.34905467 0.29398196 0.14297884]\n",
      "[8 2 1 4 9 2]\n",
      "[-0.60777764  0.5127996  -0.12025864  1.24385972 -1.19290055 -0.31448712\n",
      " -0.73893138  0.82580958  0.10027921 -0.25064899]\n"
     ]
    }
   ],
   "source": [
    "a = np.random.rand(10) # 0부터 1사이의 실수를 랜덤으로 5개의 인덱스를 만들어준다.\n",
    "print(a)\n",
    "# ?을 뒤에 사용하면 그에 대한 설명이 나온다.\n",
    "#np.random.rand?\n",
    "\n",
    "b = np.random.randint(1,10,6)\n",
    "print(b)\n",
    "\n",
    "c = np.random.randn(10) # 가우시간 표준분표\n",
    "print(c)"
   ]
  },
  {
   "cell_type": "markdown",
   "metadata": {},
   "source": [
    "### 2. numpy배열의 초기화\n",
    "    초기화 란?\n",
    "    배열의 생성함과 동시에 최초의 값을 넣는다.\n",
    "    특정한 값을 할당하는 것을 말한다.\n",
    "    \n",
    "    zeros()\n",
    "    ones()\n",
    "    arange()"
   ]
  },
  {
   "cell_type": "code",
   "execution_count": 6,
   "metadata": {},
   "outputs": [
    {
     "name": "stdout",
     "output_type": "stream",
     "text": [
      "[0. 0. 0. 0. 0. 0. 0. 0. 0. 0.]\n",
      "[1. 1. 1. 1. 1. 1. 1. 1. 1. 1.]\n",
      "[4. 4. 4. 4. 4. 4. 4. 4. 4. 4.]\n",
      "[[1. 0. 0. 0. 0.]\n",
      " [0. 1. 0. 0. 0.]\n",
      " [0. 0. 1. 0. 0.]\n",
      " [0. 0. 0. 1. 0.]\n",
      " [0. 0. 0. 0. 1.]]\n",
      "ae + 1 :  [0. 0. 1. 0. 0.]\n",
      "[[1. 0. 0. 0. 0.]\n",
      " [0. 1. 0. 0. 0.]\n",
      " [0. 0. 1. 0. 0.]\n",
      " [0. 0. 0. 1. 0.]\n",
      " [0. 0. 0. 0. 1.]]\n",
      "[ 2 12 22 32 42 52 62 72 82]\n",
      "[ 2 12 22 32 42 52 62 72 82 92]\n",
      "[[-11 -11 -11 -11 -11]\n",
      " [-11 -11 -11 -11 -11]\n",
      " [-11 -11 -11 -11 -11]\n",
      " [-11 -11 -11 -11 -11]\n",
      " [-11 -11 -11 -11 -11]]\n"
     ]
    }
   ],
   "source": [
    "# 1. zeros() 0의 값으로 이뤄진 크기가 10인 배열을 생성\n",
    "\n",
    "az = np.zeros(10)\n",
    "print(az)\n",
    "\n",
    "# 2.  ones() 1의 값으로 이뤄진 크기가 10인 배열을 생성\n",
    "ao = np.ones(10)\n",
    "print(ao)\n",
    "print(np.ones(10)+3)\n",
    "\n",
    "# 3. eye(3) 3by3 단위의 배열을 생성\n",
    "ae = np.eye(5)\n",
    "print(ae)\n",
    "print('ae + 1 : ',ae[2]*1)\n",
    "print(ae)\n",
    "\n",
    "# 4. arange(10) 0부터 10까지 인덱스를 생성한다. (3,9) 하면 3부터 9까지 (2,90,10) 하면 2부터 90까지 10씩 뛰면서 \n",
    "print(np.arange(2,90,10))\n",
    "a = np.arange(2,100,10)\n",
    "print(a)\n",
    "\n",
    "# 5. full() 모든 배열의 초기화는 어느정도 정리가 된다.\n",
    "af = np.full((5,5), -11) # np.full(크기,값)\n",
    "print(af)"
   ]
  },
  {
   "cell_type": "markdown",
   "metadata": {},
   "source": [
    "### 3. 리스트와 np배열의 차이점 \n",
    "    리스트와 np배열의 차이점을 정리한다.\n",
    "\n",
    "    리스트는 서로다른 타입의 값들이 저장이 가능한 반면에\n",
    "    np배열은 하나의 자료형만 저장할 수 있다.(더 큰 타입으로 캐스팅 된다. int, string이랑 있으면 string이 더 큰 타입이기 때문에 포함된다.)"
   ]
  },
  {
   "cell_type": "code",
   "execution_count": 7,
   "metadata": {},
   "outputs": [
    {
     "name": "stdout",
     "output_type": "stream",
     "text": [
      "[1, 2, 3, '4', 5]\n",
      "<class 'list'>\n",
      "[1, 2, 3, 4.6, 5]\n"
     ]
    }
   ],
   "source": [
    "L = [1,2,3,'4',5]\n",
    "number = [1,2,3,4.6,5]\n",
    "print(L)\n",
    "print(type(L))\n",
    "print(number)"
   ]
  },
  {
   "cell_type": "code",
   "execution_count": 8,
   "metadata": {},
   "outputs": [
    {
     "name": "stdout",
     "output_type": "stream",
     "text": [
      "['1' '2' '3' '4' '5']\n",
      "<class 'numpy.ndarray'>\n",
      "[1.  2.  3.  4.6 5. ]\n",
      "<class 'numpy.ndarray'>\n",
      "[1. 2. 3. 4.]\n"
     ]
    }
   ],
   "source": [
    "narray_1 = np.array(L)\n",
    "print(narray_1)\n",
    "print(type(narray_1))\n",
    "\n",
    "narray_2 = np.array(number)\n",
    "print(narray_2)\n",
    "print(type(narray_2))\n",
    "\n",
    "# 값의 타입을 명시해서 저장할 수도 있다. 이때 dtype 속성을 사용한다.\n",
    "narray_3 = np.array([1,2,3,4], dtype=np.float) # 같은 자료형만 저장한다.\n",
    "print(narray_3)\n"
   ]
  },
  {
   "cell_type": "markdown",
   "metadata": {},
   "source": [
    "### 4. Numpy 배열의 속성 혹은 함수\n",
    "    ndim = 차원값을 반환해줌, shape = 배열의 행과 열, reshape = 행과 열을 바꿔준다, size = 엘레먼트의 갯수, type = 타입\n",
    "    \n",
    "    아래부터 나오는 배열은 무조건 np배열."
   ]
  },
  {
   "cell_type": "code",
   "execution_count": 9,
   "metadata": {},
   "outputs": [
    {
     "name": "stdout",
     "output_type": "stream",
     "text": [
      "<class 'numpy.ndarray'>\n",
      "2\n",
      "(2, 3)\n",
      "6\n",
      "******************************\n",
      "2\n",
      "(2, 3)\n",
      "6\n",
      "int32\n",
      "<class 'numpy.ndarray'>\n",
      "******************************\n",
      "int32\n",
      "float64\n",
      "******************************\n",
      "[ 0  1  2  3  4  5  6  7  8  9 10 11 12 13 14 15 16 17 18 19 20 21 22 23\n",
      " 24 25 26 27 28 29 30 31]\n",
      "(32,)\n"
     ]
    },
    {
     "data": {
      "text/plain": [
       "array([[ 0,  1,  2,  3],\n",
       "       [ 4,  5,  6,  7],\n",
       "       [ 8,  9, 10, 11],\n",
       "       [12, 13, 14, 15],\n",
       "       [16, 17, 18, 19],\n",
       "       [20, 21, 22, 23],\n",
       "       [24, 25, 26, 27],\n",
       "       [28, 29, 30, 31]])"
      ]
     },
     "execution_count": 9,
     "metadata": {},
     "output_type": "execute_result"
    }
   ],
   "source": [
    "arr1 = np.array([[1.0, 2, 3],[4, 5, 6]], dtype=np.int32) # 2 by 3으로 나온다. 2행 3열\n",
    "arr1\n",
    "\n",
    "# np의 함수를 이용해서 타입, 차원,몇행몇열, 데이터가 총 몇개인지, 출력\n",
    "print(type(arr1))\n",
    "print(np.ndim(arr1)) # 2차원은 매트릭스 1차원은 벡터\n",
    "print(np.shape(arr1)) # 몇행 몇열\n",
    "print(np.size(arr1))\n",
    "print('*'*30)\n",
    "print(arr1.ndim)\n",
    "print(arr1.shape)\n",
    "print(arr1.size)\n",
    "print(arr1.dtype) # dtype과 type을 구분해야한다.\n",
    "print(type(arr1))\n",
    "print('*'*30)\n",
    "# arr1배열의 원소값 타입을 astype()으로 한번에 다른 타입으로 바꿀수 있다.  \n",
    "print(arr1.dtype)\n",
    "arr1_1 = arr1.astype(np.float64)\n",
    "print(arr1_1.dtype)\n",
    "print('*'*30)\n",
    "arr2 = np.arange(32)\n",
    "print(arr2)\n",
    "print(arr2.shape)\n",
    "arr2_2 = arr2.reshape(8,4) # 2차원 구조로 바꿔준다.\n",
    "arr2_2 # 8행 4열"
   ]
  }
 ],
 "metadata": {
  "kernelspec": {
   "display_name": "Python 3",
   "language": "python",
   "name": "python3"
  },
  "language_info": {
   "codemirror_mode": {
    "name": "ipython",
    "version": 3
   },
   "file_extension": ".py",
   "mimetype": "text/x-python",
   "name": "python",
   "nbconvert_exporter": "python",
   "pygments_lexer": "ipython3",
   "version": "3.8.5"
  }
 },
 "nbformat": 4,
 "nbformat_minor": 4
}
