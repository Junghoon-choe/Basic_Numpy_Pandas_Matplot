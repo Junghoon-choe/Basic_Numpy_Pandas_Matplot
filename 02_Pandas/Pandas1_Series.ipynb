{
 "cells": [
  {
   "cell_type": "markdown",
   "metadata": {},
   "source": [
    "\n",
    "    Pandas는 Panel Datas의 줄임말로, \n",
    "    파이썬을 이용한 데이터 분석에서 가장 많이 사용되는 라이브러리이다.\n",
    "\n",
    "    Numpyt를 기반으로 만들어졋으며, 데이터 분석을 위한 효율적인 데이터구조를 제공한다.\n",
    "    \n",
    "    ndarray - 다차원 배열 \n",
    "    \n",
    "    Pandas의 자료구조\n",
    "    1. Series - 1차원 배열형태 자료구조(벡터)\n",
    "        Series(ndarray, index)\n",
    "        인덱스를 지정안 하면 각 사이즈 별로 들어간다.\n",
    "    2. DataFrame - 2차원 배열형태 자료구조(메트릭스) 가장 많이 사용된다.\n",
    "    \n",
    "        중요* 행을 구분하는 인덱스\n",
    "        중요* 열을 구분하는 컬럼\n",
    "        \n",
    "        지정이 없으면 인덱스는 정수로 설정한다.\n",
    "        \n",
    "        한번 지정된 인덱스는 변경되지 않는다.\n",
    "        \n",
    "    3. Panel - 3차원 배열형태 자료구조\n"
   ]
  },
  {
   "cell_type": "markdown",
   "metadata": {},
   "source": [
    "### Series\n",
    "#### 1.시리즈 생성, 구조확인"
   ]
  },
  {
   "cell_type": "code",
   "execution_count": 1,
   "metadata": {},
   "outputs": [],
   "source": [
    "import numpy as np\n",
    "import pandas as pd\n",
    "from pandas import Series, DataFrame"
   ]
  },
  {
   "cell_type": "code",
   "execution_count": 2,
   "metadata": {},
   "outputs": [],
   "source": [
    "#ser1 = Series?"
   ]
  },
  {
   "cell_type": "code",
   "execution_count": 3,
   "metadata": {},
   "outputs": [],
   "source": [
    "ser1 = Series"
   ]
  },
  {
   "cell_type": "code",
   "execution_count": 4,
   "metadata": {},
   "outputs": [
    {
     "name": "stdout",
     "output_type": "stream",
     "text": [
      "a    18\n",
      "b    18\n",
      "c    13\n",
      "d    17\n",
      "e    17\n",
      "dtype: int32\n",
      "Index(['a', 'b', 'c', 'd', 'e'], dtype='object')\n",
      "[18 18 13 17 17]\n",
      "int32\n"
     ]
    }
   ],
   "source": [
    "'''\n",
    "Series(\n",
    "    data=None,\n",
    "    index=None,\n",
    "    dtype=None,\n",
    "    name=None,\n",
    "    copy=False,\n",
    "    fastpath=False,\n",
    ")\n",
    "모든 데이터는 배열형태로 넣어야 한다.\n",
    "index를 명시적으로 지정하지 않으면 자동적으로 0 n-1까지의 정수로 지정된다.\n",
    "'''\n",
    "np.random.seed(100) # seed값으로 100을 넣어 랜덤값을 고정 시킨다.\n",
    "# ser1 = Series(np.random.randint(10,20,5), index = ['a','b','c','d','e'])\n",
    "ser1 = Series(np.random.randint(10,20,5), index = list('abcde'))\n",
    "print(ser1) # 인덱스와 벨류를 반환한다.\n",
    "print(ser1.index) # 인덱스만 반환\n",
    "print(ser1.values) # 벨류만 반환\n",
    "print(ser1.dtype) # 데이터 타입을 반환"
   ]
  },
  {
   "cell_type": "markdown",
   "metadata": {},
   "source": [
    "#### 시리즈 값 조회하기"
   ]
  },
  {
   "cell_type": "markdown",
   "metadata": {},
   "source": [
    "    중요~! 단일 값을 선택하거나 여러값을 선택할때\n",
    "    인덱싱과 슬라이싱이 나온다.\n",
    "\n",
    "    인덱스로 숫자나 라벨을 사용할 수 있다. 이때, 슬라이싱되는 방법이 달라진다.\n",
    "    1. 라벨사용\n",
    "    2. 숫자사용\n",
    "    슬라이싱은 방법이 다르다."
   ]
  },
  {
   "cell_type": "code",
   "execution_count": 5,
   "metadata": {},
   "outputs": [
    {
     "name": "stdout",
     "output_type": "stream",
     "text": [
      "13\n",
      "13\n",
      "b    18\n",
      "c    13\n",
      "d    17\n",
      "dtype: int32\n",
      "b    18\n",
      "c    13\n",
      "d    17\n",
      "dtype: int32\n"
     ]
    }
   ],
   "source": [
    "print(ser1['c']) # 인덱싱(라벨사용)\n",
    "print(ser1[2])  # 인덱싱(숫자사용)\n",
    "print(ser1['b':'d']) # 슬라이싱 (라벨사용) 마지막을 포함한다.\n",
    "print(ser1[1:4])    # 슬라이싱 (숫자사용)"
   ]
  },
  {
   "cell_type": "code",
   "execution_count": 6,
   "metadata": {},
   "outputs": [
    {
     "data": {
      "text/plain": [
       "a    18\n",
       "b    18\n",
       "c    13\n",
       "d    17\n",
       "e    17\n",
       "dtype: int32"
      ]
     },
     "execution_count": 6,
     "metadata": {},
     "output_type": "execute_result"
    }
   ],
   "source": [
    "# 간단하게 응용해서 조회하기\n",
    "ser1"
   ]
  },
  {
   "cell_type": "code",
   "execution_count": 7,
   "metadata": {},
   "outputs": [
    {
     "data": {
      "text/plain": [
       "a    18\n",
       "c    13\n",
       "e    17\n",
       "dtype: int32"
      ]
     },
     "execution_count": 7,
     "metadata": {},
     "output_type": "execute_result"
    }
   ],
   "source": [
    "ser1[::2] # 2칸씩 뛰어서 조회"
   ]
  },
  {
   "cell_type": "code",
   "execution_count": 8,
   "metadata": {},
   "outputs": [
    {
     "data": {
      "text/plain": [
       "a    18\n",
       "b    18\n",
       "dtype: int32"
      ]
     },
     "execution_count": 8,
     "metadata": {},
     "output_type": "execute_result"
    }
   ],
   "source": [
    "ser1[:2]"
   ]
  },
  {
   "cell_type": "code",
   "execution_count": 9,
   "metadata": {},
   "outputs": [
    {
     "data": {
      "text/plain": [
       "a    18\n",
       "b    18\n",
       "c    13\n",
       "d    17\n",
       "e    17\n",
       "dtype: int32"
      ]
     },
     "execution_count": 9,
     "metadata": {},
     "output_type": "execute_result"
    }
   ],
   "source": [
    "ser1_1 = ser1[::2]\n",
    "ser1"
   ]
  },
  {
   "cell_type": "markdown",
   "metadata": {},
   "source": [
    "#### 3. 시리즈 간의 연산과 누락 데이터 처리하기"
   ]
  },
  {
   "cell_type": "code",
   "execution_count": 10,
   "metadata": {},
   "outputs": [
    {
     "name": "stdout",
     "output_type": "stream",
     "text": [
      "a    18\n",
      "c    13\n",
      "e    17\n",
      "dtype: int32\n",
      "a    18\n",
      "b    18\n",
      "c    13\n",
      "d    17\n",
      "e    17\n",
      "dtype: int32\n"
     ]
    }
   ],
   "source": [
    "print(ser1_1)\n",
    "print(ser1)"
   ]
  },
  {
   "cell_type": "code",
   "execution_count": 11,
   "metadata": {},
   "outputs": [
    {
     "name": "stdout",
     "output_type": "stream",
     "text": [
      "a    36.0\n",
      "b     NaN\n",
      "c    26.0\n",
      "d     NaN\n",
      "e    34.0\n",
      "dtype: float64\n"
     ]
    }
   ],
   "source": [
    "result = ser1_1 + ser1 \n",
    "# 한쪽에 값이 없는경우 NaN으로 채워짐과 동시에 데이터 타입을 실수형으로 바뀐다. 바뀌는 이유는 NaN이 float64인것도 있고,\n",
    "# int보다 더 큰 값으로 데이터형이 변하기 때문이다. \n",
    "print(result) "
   ]
  },
  {
   "cell_type": "markdown",
   "metadata": {},
   "source": [
    "#### 4. 누락테이터 조회하기 - \n",
    "    isnull() - 누락데이터를 조회할때 사용\n",
    "    notnull() - 누락데이터가 아닌것을 조회할때 사용 "
   ]
  },
  {
   "cell_type": "code",
   "execution_count": 12,
   "metadata": {},
   "outputs": [
    {
     "name": "stdout",
     "output_type": "stream",
     "text": [
      "a    False\n",
      "b     True\n",
      "c    False\n",
      "d     True\n",
      "e    False\n",
      "dtype: bool\n",
      "******************************\n",
      "a     True\n",
      "b    False\n",
      "c     True\n",
      "d    False\n",
      "e     True\n",
      "dtype: bool\n",
      "******************************\n",
      "2\n"
     ]
    }
   ],
   "source": [
    "print(result.isnull())\n",
    "print('*'*30)\n",
    "print(result.notnull())\n",
    "print('*'*30)\n",
    "print(result.isnull().sum()) # 누락된 데이터의 갯수 출력"
   ]
  },
  {
   "cell_type": "code",
   "execution_count": 13,
   "metadata": {},
   "outputs": [
    {
     "name": "stdout",
     "output_type": "stream",
     "text": [
      "\u001b[30mnan\u001b[0m\n",
      "\u001b[31mnan\u001b[0m\n",
      "['False' 'nan' 'False' 'nan' 'False']\n",
      "['False' 'nan' 'False' 'nan' 'False']\n",
      "b   NaN\n",
      "d   NaN\n",
      "dtype: float64\n",
      "a    36.0\n",
      "c    26.0\n",
      "e    34.0\n",
      "dtype: float64\n"
     ]
    }
   ],
   "source": [
    "b_nan = print('\\033[30m' + 'nan' + '\\033[0m')\n",
    "r_nan = print('\\033[31m' + 'nan' + '\\033[0m')\n",
    "a = np.where(result.isnull(),'nan',False)            # \n",
    "b = np.where(result.isnull(),'nan',result.isnull())  # \n",
    "c = result[result.isnull()]                               # nan만 나오게한다.\n",
    "d = result[result.notnull()]                            # nan이 아닌것만 나오게 한다.\n",
    "print(a)\n",
    "print(b)\n",
    "print(c)\n",
    "print(d)"
   ]
  },
  {
   "cell_type": "markdown",
   "metadata": {},
   "source": [
    "#### 5. Matplot을 이용한 시각화"
   ]
  },
  {
   "cell_type": "code",
   "execution_count": 14,
   "metadata": {},
   "outputs": [],
   "source": [
    "import matplotlib.pyplot as plt"
   ]
  },
  {
   "cell_type": "code",
   "execution_count": 15,
   "metadata": {},
   "outputs": [
    {
     "data": {
      "image/png": "[encoded data removed]",
      "text/plain": [
       "<Figure size 432x288 with 1 Axes>"
      ]
     },
     "metadata": {
      "needs_background": "light"
     },
     "output_type": "display_data"
    }
   ],
   "source": [
    "# 누락테이터가 아닌 값들을 시각화해 본다.\n",
    "result[result.notnull()].plot(kind='bar')\n",
    "plt.show() # notnull인 데이터만 출력~! "
   ]
  },
  {
   "cell_type": "code",
   "execution_count": 16,
   "metadata": {},
   "outputs": [
    {
     "data": {
      "image/png": "[encoded data removed]",
      "text/plain": [
       "<Figure size 432x288 with 1 Axes>"
      ]
     },
     "metadata": {
      "needs_background": "light"
     },
     "output_type": "display_data"
    }
   ],
   "source": [
    "result[result.isnull()].plot(kind='bar') \n",
    "plt.show() # null인 데이터만 출력~!  numeric한 것만 그래프 대상으로 잡는다. 지금 이건 바람직 하지 않음."
   ]
  }
 ],
 "metadata": {
  "kernelspec": {
   "display_name": "Python 3",
   "language": "python",
   "name": "python3"
  },
  "language_info": {
   "codemirror_mode": {
    "name": "ipython",
    "version": 3
   },
   "file_extension": ".py",
   "mimetype": "text/x-python",
   "name": "python",
   "nbconvert_exporter": "python",
   "pygments_lexer": "ipython3",
   "version": "3.8.5"
  }
 },
 "nbformat": 4,
 "nbformat_minor": 4
}
